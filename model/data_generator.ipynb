{
 "cells": [
  {
   "cell_type": "code",
   "execution_count": 1,
   "metadata": {
    "scrolled": true
   },
   "outputs": [],
   "source": [
    "import os \n",
    "import cv2\n",
    "import numpy as np \n",
    "import torch as t\n",
    "import torchvision \n",
    "from tqdm import tqdm\n",
    "REBUILD_DATA = True"
   ]
  },
  {
   "cell_type": "code",
   "execution_count": 3,
   "metadata": {},
   "outputs": [],
   "source": [
    "class HandSigns():\n",
    "    IMG_SIZE = 100\n",
    "    LABELS = {}\n",
    "    for i in enumerate(['A',\n",
    "'B',\n",
    "'C',\n",
    "'D',\n",
    "'E',\n",
    "'F',\n",
    "'G',\n",
    "'H',\n",
    "'I',\n",
    "'J',\n",
    "'K',\n",
    "'L',\n",
    "'M',\n",
    "'N',\n",
    "'O',\n",
    "'P',\n",
    "'Q',\n",
    "'R',\n",
    "'S',\n",
    "'T',\n",
    "'U',\n",
    "'V',\n",
    "'W',\n",
    "'X',\n",
    "'Y',\n",
    "'Z',\n",
    "'del',\n",
    "'space',\n",
    "'nothing'\n",
    "                       ]):\n",
    "        LABELS['C:\\\\Tarun\\\\FYP\\\\asl_to_speech\\\\model\\\\data\\\\asl_alphabet_train'+'\\\\'+i[1]]=i[0]\n",
    "    training_data = []\n",
    "\n",
    "\n",
    "    def make_training_data(self):\n",
    "        for label in self.LABELS:\n",
    "            print(label)\n",
    "            for f in tqdm(os.listdir(label)):\n",
    "                if \"jpg\" in f:\n",
    "                    try:\n",
    "                        path = os.path.join(label, f)\n",
    "                        img = cv2.imread(path, cv2.IMREAD_GRAYSCALE)\n",
    "                        img = cv2.resize(img, (self.IMG_SIZE, self.IMG_SIZE))\n",
    "                        self.training_data.append([np.array(img), np.eye(len(self.LABELS))[self.LABELS[label]]])\n",
    " \n",
    "                    except Exception as e:\n",
    "                        print(label, f, str(e))\n",
    "            np.random.shuffle(self.training_data)\n",
    "            np.save('all_plus_tarun_v2.npy',self.training_data)\n",
    "\n",
    "            \n"
   ]
  },
  {
   "cell_type": "code",
   "execution_count": 4,
   "metadata": {},
   "outputs": [
    {
     "name": "stderr",
     "output_type": "stream",
     "text": [
      "  9%|██████▊                                                                      | 303/3437 [00:00<00:01, 3029.35it/s]"
     ]
    },
    {
     "name": "stdout",
     "output_type": "stream",
     "text": [
      "C:\\Tarun\\FYP\\asl_to_speech\\model\\data\\asl_alphabet_train\\A\n"
     ]
    },
    {
     "name": "stderr",
     "output_type": "stream",
     "text": [
      "100%|█████████████████████████████████████████████████████████████████████████████| 3437/3437 [00:17<00:00, 192.37it/s]\n",
      "C:\\Tarun\\FYP\\env\\lib\\site-packages\\numpy\\core\\_asarray.py:171: VisibleDeprecationWarning: Creating an ndarray from ragged nested sequences (which is a list-or-tuple of lists-or-tuples-or ndarrays with different lengths or shapes) is deprecated. If you meant to do this, you must specify 'dtype=object' when creating the ndarray.\n",
      "  return array(a, dtype, copy=False, order=order, subok=True)\n",
      "  4%|██▉                                                                          | 148/3951 [00:00<00:02, 1474.69it/s]"
     ]
    },
    {
     "name": "stdout",
     "output_type": "stream",
     "text": [
      "C:\\Tarun\\FYP\\asl_to_speech\\model\\data\\asl_alphabet_train\\B\n"
     ]
    },
    {
     "name": "stderr",
     "output_type": "stream",
     "text": [
      "100%|█████████████████████████████████████████████████████████████████████████████| 3951/3951 [00:18<00:00, 217.51it/s]\n",
      "  4%|██▉                                                                          | 155/4140 [00:00<00:02, 1543.00it/s]"
     ]
    },
    {
     "name": "stdout",
     "output_type": "stream",
     "text": [
      "C:\\Tarun\\FYP\\asl_to_speech\\model\\data\\asl_alphabet_train\\C\n"
     ]
    },
    {
     "name": "stderr",
     "output_type": "stream",
     "text": [
      "100%|█████████████████████████████████████████████████████████████████████████████| 4140/4140 [00:18<00:00, 219.45it/s]\n",
      "  3%|██▋                                                                          | 156/4490 [00:00<00:02, 1559.65it/s]"
     ]
    },
    {
     "name": "stdout",
     "output_type": "stream",
     "text": [
      "C:\\Tarun\\FYP\\asl_to_speech\\model\\data\\asl_alphabet_train\\D\n"
     ]
    },
    {
     "name": "stderr",
     "output_type": "stream",
     "text": [
      "100%|█████████████████████████████████████████████████████████████████████████████| 4490/4490 [00:18<00:00, 240.39it/s]\n",
      "  4%|██▋                                                                          | 169/4769 [00:00<00:02, 1689.62it/s]"
     ]
    },
    {
     "name": "stdout",
     "output_type": "stream",
     "text": [
      "C:\\Tarun\\FYP\\asl_to_speech\\model\\data\\asl_alphabet_train\\E\n"
     ]
    },
    {
     "name": "stderr",
     "output_type": "stream",
     "text": [
      "100%|█████████████████████████████████████████████████████████████████████████████| 4769/4769 [00:19<00:00, 243.37it/s]\n",
      "  4%|███▏                                                                         | 151/3685 [00:00<00:02, 1505.05it/s]"
     ]
    },
    {
     "name": "stdout",
     "output_type": "stream",
     "text": [
      "C:\\Tarun\\FYP\\asl_to_speech\\model\\data\\asl_alphabet_train\\F\n"
     ]
    },
    {
     "name": "stderr",
     "output_type": "stream",
     "text": [
      "100%|█████████████████████████████████████████████████████████████████████████████| 3685/3685 [00:18<00:00, 200.08it/s]\n",
      "  0%|▏                                                                              | 11/4415 [00:00<00:42, 103.27it/s]"
     ]
    },
    {
     "name": "stdout",
     "output_type": "stream",
     "text": [
      "C:\\Tarun\\FYP\\asl_to_speech\\model\\data\\asl_alphabet_train\\G\n"
     ]
    },
    {
     "name": "stderr",
     "output_type": "stream",
     "text": [
      "100%|█████████████████████████████████████████████████████████████████████████████| 4415/4415 [00:16<00:00, 260.10it/s]\n",
      "  0%|▏                                                                              | 11/4513 [00:00<00:43, 104.17it/s]"
     ]
    },
    {
     "name": "stdout",
     "output_type": "stream",
     "text": [
      "C:\\Tarun\\FYP\\asl_to_speech\\model\\data\\asl_alphabet_train\\H\n"
     ]
    },
    {
     "name": "stderr",
     "output_type": "stream",
     "text": [
      "100%|█████████████████████████████████████████████████████████████████████████████| 4513/4513 [00:19<00:00, 231.73it/s]\n",
      "  0%|▏                                                                              | 11/4211 [00:00<00:39, 107.13it/s]"
     ]
    },
    {
     "name": "stdout",
     "output_type": "stream",
     "text": [
      "C:\\Tarun\\FYP\\asl_to_speech\\model\\data\\asl_alphabet_train\\I\n"
     ]
    },
    {
     "name": "stderr",
     "output_type": "stream",
     "text": [
      "100%|█████████████████████████████████████████████████████████████████████████████| 4211/4211 [00:18<00:00, 221.97it/s]\n",
      "  5%|███▉                                                                         | 132/2575 [00:00<00:01, 1319.71it/s]"
     ]
    },
    {
     "name": "stdout",
     "output_type": "stream",
     "text": [
      "C:\\Tarun\\FYP\\asl_to_speech\\model\\data\\asl_alphabet_train\\J\n"
     ]
    },
    {
     "name": "stderr",
     "output_type": "stream",
     "text": [
      "100%|████████████████████████████████████████████████████████████████████████████| 2575/2575 [00:01<00:00, 1463.65it/s]\n",
      "  0%|▏                                                                              | 11/4370 [00:00<00:41, 105.76it/s]"
     ]
    },
    {
     "name": "stdout",
     "output_type": "stream",
     "text": [
      "C:\\Tarun\\FYP\\asl_to_speech\\model\\data\\asl_alphabet_train\\K\n"
     ]
    },
    {
     "name": "stderr",
     "output_type": "stream",
     "text": [
      "100%|█████████████████████████████████████████████████████████████████████████████| 4370/4370 [00:18<00:00, 230.24it/s]\n",
      "  0%|▏                                                                              | 11/4681 [00:00<00:45, 101.83it/s]"
     ]
    },
    {
     "name": "stdout",
     "output_type": "stream",
     "text": [
      "C:\\Tarun\\FYP\\asl_to_speech\\model\\data\\asl_alphabet_train\\L\n"
     ]
    },
    {
     "name": "stderr",
     "output_type": "stream",
     "text": [
      "100%|█████████████████████████████████████████████████████████████████████████████| 4681/4681 [00:18<00:00, 252.12it/s]\n",
      "  0%|▏                                                                              | 11/4036 [00:00<00:38, 105.92it/s]"
     ]
    },
    {
     "name": "stdout",
     "output_type": "stream",
     "text": [
      "C:\\Tarun\\FYP\\asl_to_speech\\model\\data\\asl_alphabet_train\\M\n"
     ]
    },
    {
     "name": "stderr",
     "output_type": "stream",
     "text": [
      "100%|█████████████████████████████████████████████████████████████████████████████| 4036/4036 [00:18<00:00, 218.31it/s]\n",
      "  0%|▏                                                                              | 11/4148 [00:00<00:39, 105.51it/s]"
     ]
    },
    {
     "name": "stdout",
     "output_type": "stream",
     "text": [
      "C:\\Tarun\\FYP\\asl_to_speech\\model\\data\\asl_alphabet_train\\N\n"
     ]
    },
    {
     "name": "stderr",
     "output_type": "stream",
     "text": [
      "100%|█████████████████████████████████████████████████████████████████████████████| 4148/4148 [00:19<00:00, 218.22it/s]\n",
      "  0%|▏                                                                              | 11/4326 [00:00<00:42, 101.44it/s]"
     ]
    },
    {
     "name": "stdout",
     "output_type": "stream",
     "text": [
      "C:\\Tarun\\FYP\\asl_to_speech\\model\\data\\asl_alphabet_train\\O\n"
     ]
    },
    {
     "name": "stderr",
     "output_type": "stream",
     "text": [
      "100%|█████████████████████████████████████████████████████████████████████████████| 4326/4326 [00:18<00:00, 228.57it/s]\n",
      "  0%|▏                                                                              | 11/4797 [00:00<00:46, 102.92it/s]"
     ]
    },
    {
     "name": "stdout",
     "output_type": "stream",
     "text": [
      "C:\\Tarun\\FYP\\asl_to_speech\\model\\data\\asl_alphabet_train\\P\n"
     ]
    },
    {
     "name": "stderr",
     "output_type": "stream",
     "text": [
      "100%|█████████████████████████████████████████████████████████████████████████████| 4797/4797 [00:19<00:00, 246.39it/s]\n",
      "  0%|▏                                                                              | 11/3731 [00:00<00:35, 104.62it/s]"
     ]
    },
    {
     "name": "stdout",
     "output_type": "stream",
     "text": [
      "C:\\Tarun\\FYP\\asl_to_speech\\model\\data\\asl_alphabet_train\\Q\n"
     ]
    },
    {
     "name": "stderr",
     "output_type": "stream",
     "text": [
      "100%|█████████████████████████████████████████████████████████████████████████████| 3731/3731 [00:15<00:00, 234.65it/s]\n",
      "  0%|▏                                                                              | 11/4606 [00:00<00:44, 102.38it/s]"
     ]
    },
    {
     "name": "stdout",
     "output_type": "stream",
     "text": [
      "C:\\Tarun\\FYP\\asl_to_speech\\model\\data\\asl_alphabet_train\\R\n"
     ]
    },
    {
     "name": "stderr",
     "output_type": "stream",
     "text": [
      "100%|█████████████████████████████████████████████████████████████████████████████| 4606/4606 [00:17<00:00, 257.19it/s]\n",
      "  0%|▏                                                                              | 11/4654 [00:00<00:44, 104.07it/s]"
     ]
    },
    {
     "name": "stdout",
     "output_type": "stream",
     "text": [
      "C:\\Tarun\\FYP\\asl_to_speech\\model\\data\\asl_alphabet_train\\S\n"
     ]
    },
    {
     "name": "stderr",
     "output_type": "stream",
     "text": [
      "100%|█████████████████████████████████████████████████████████████████████████████| 4654/4654 [00:17<00:00, 261.20it/s]\n",
      "  0%|▏                                                                              | 11/4185 [00:00<00:39, 105.54it/s]"
     ]
    },
    {
     "name": "stdout",
     "output_type": "stream",
     "text": [
      "C:\\Tarun\\FYP\\asl_to_speech\\model\\data\\asl_alphabet_train\\T\n"
     ]
    },
    {
     "name": "stderr",
     "output_type": "stream",
     "text": [
      "100%|█████████████████████████████████████████████████████████████████████████████| 4185/4185 [00:18<00:00, 229.75it/s]\n",
      "  0%|▏                                                                              | 11/4683 [00:00<00:44, 105.41it/s]"
     ]
    },
    {
     "name": "stdout",
     "output_type": "stream",
     "text": [
      "C:\\Tarun\\FYP\\asl_to_speech\\model\\data\\asl_alphabet_train\\U\n"
     ]
    },
    {
     "name": "stderr",
     "output_type": "stream",
     "text": [
      "100%|█████████████████████████████████████████████████████████████████████████████| 4683/4683 [00:18<00:00, 253.28it/s]\n",
      "  0%|▎                                                                              | 11/2502 [00:00<00:23, 107.56it/s]"
     ]
    },
    {
     "name": "stdout",
     "output_type": "stream",
     "text": [
      "C:\\Tarun\\FYP\\asl_to_speech\\model\\data\\asl_alphabet_train\\V\n"
     ]
    },
    {
     "name": "stderr",
     "output_type": "stream",
     "text": [
      "100%|█████████████████████████████████████████████████████████████████████████████| 2502/2502 [00:14<00:00, 172.69it/s]\n",
      "  0%|▎                                                                              | 11/3050 [00:00<00:28, 106.68it/s]"
     ]
    },
    {
     "name": "stdout",
     "output_type": "stream",
     "text": [
      "C:\\Tarun\\FYP\\asl_to_speech\\model\\data\\asl_alphabet_train\\W\n"
     ]
    },
    {
     "name": "stderr",
     "output_type": "stream",
     "text": [
      "100%|█████████████████████████████████████████████████████████████████████████████| 3050/3050 [00:15<00:00, 198.84it/s]\n",
      "  1%|▌                                                                              | 11/1499 [00:00<00:13, 107.76it/s]"
     ]
    },
    {
     "name": "stdout",
     "output_type": "stream",
     "text": [
      "C:\\Tarun\\FYP\\asl_to_speech\\model\\data\\asl_alphabet_train\\X\n"
     ]
    },
    {
     "name": "stderr",
     "output_type": "stream",
     "text": [
      "100%|█████████████████████████████████████████████████████████████████████████████| 1499/1499 [00:14<00:00, 106.96it/s]\n",
      "  1%|▌                                                                              | 11/1570 [00:00<00:14, 106.49it/s]"
     ]
    },
    {
     "name": "stdout",
     "output_type": "stream",
     "text": [
      "C:\\Tarun\\FYP\\asl_to_speech\\model\\data\\asl_alphabet_train\\Y\n"
     ]
    },
    {
     "name": "stderr",
     "output_type": "stream",
     "text": [
      "100%|█████████████████████████████████████████████████████████████████████████████| 1570/1570 [00:14<00:00, 106.15it/s]\n",
      "  8%|█████▉                                                                       | 142/1824 [00:00<00:01, 1409.22it/s]"
     ]
    },
    {
     "name": "stdout",
     "output_type": "stream",
     "text": [
      "C:\\Tarun\\FYP\\asl_to_speech\\model\\data\\asl_alphabet_train\\Z\n"
     ]
    },
    {
     "name": "stderr",
     "output_type": "stream",
     "text": [
      "100%|████████████████████████████████████████████████████████████████████████████| 1824/1824 [00:01<00:00, 1512.63it/s]\n",
      "  5%|███▊                                                                         | 148/2943 [00:00<00:01, 1468.24it/s]"
     ]
    },
    {
     "name": "stdout",
     "output_type": "stream",
     "text": [
      "C:\\Tarun\\FYP\\asl_to_speech\\model\\data\\asl_alphabet_train\\del\n"
     ]
    },
    {
     "name": "stderr",
     "output_type": "stream",
     "text": [
      "100%|████████████████████████████████████████████████████████████████████████████| 2943/2943 [00:01<00:00, 1758.31it/s]\n",
      "  6%|████▉                                                                        | 167/2625 [00:00<00:01, 1663.67it/s]"
     ]
    },
    {
     "name": "stdout",
     "output_type": "stream",
     "text": [
      "C:\\Tarun\\FYP\\asl_to_speech\\model\\data\\asl_alphabet_train\\space\n"
     ]
    },
    {
     "name": "stderr",
     "output_type": "stream",
     "text": [
      "100%|████████████████████████████████████████████████████████████████████████████| 2625/2625 [00:01<00:00, 1826.76it/s]\n",
      "  7%|█████▋                                                                       | 176/2400 [00:00<00:01, 1749.35it/s]"
     ]
    },
    {
     "name": "stdout",
     "output_type": "stream",
     "text": [
      "C:\\Tarun\\FYP\\asl_to_speech\\model\\data\\asl_alphabet_train\\nothing\n"
     ]
    },
    {
     "name": "stderr",
     "output_type": "stream",
     "text": [
      "100%|████████████████████████████████████████████████████████████████████████████| 2400/2400 [00:01<00:00, 2057.40it/s]\n"
     ]
    }
   ],
   "source": [
    "if REBUILD_DATA:\n",
    "    ASL_DATA = HandSigns()\n",
    "    ASL_DATA.make_training_data()"
   ]
  },
  {
   "cell_type": "code",
   "execution_count": 4,
   "metadata": {},
   "outputs": [],
   "source": [
    "training_data = np.load('single_indices.npy',allow_pickle=True)"
   ]
  },
  {
   "cell_type": "code",
   "execution_count": null,
   "metadata": {},
   "outputs": [],
   "source": [
    "len(training_data)"
   ]
  },
  {
   "cell_type": "code",
   "execution_count": null,
   "metadata": {},
   "outputs": [],
   "source": [
    "import matplotlib.pyplot as plt\n",
    "plt.imshow(training_data[3][0], cmap=\"gray\")\n",
    "plt.show()\n"
   ]
  },
  {
   "cell_type": "code",
   "execution_count": null,
   "metadata": {},
   "outputs": [],
   "source": []
  }
 ],
 "metadata": {
  "kernelspec": {
   "display_name": "ASL_TO_SPEECH",
   "language": "python",
   "name": "env"
  },
  "language_info": {
   "codemirror_mode": {
    "name": "ipython",
    "version": 3
   },
   "file_extension": ".py",
   "mimetype": "text/x-python",
   "name": "python",
   "nbconvert_exporter": "python",
   "pygments_lexer": "ipython3",
   "version": "3.9.5"
  }
 },
 "nbformat": 4,
 "nbformat_minor": 4
}
