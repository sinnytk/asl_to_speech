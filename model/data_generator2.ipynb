{
 "cells": [
  {
   "cell_type": "code",
   "execution_count": 50,
   "metadata": {
    "scrolled": true
   },
   "outputs": [],
   "source": [
    "import os \n",
    "import cv2\n",
    "import numpy as np \n",
    "import random\n",
    "import torch \n",
    "import torchvision \n",
    "import mediapipe as mp\n",
    "from tqdm import tqdm\n",
    "from PIL import Image\n",
    "from matplotlib import pyplot as plt\n",
    "REBUILD_DATA = True"
   ]
  },
  {
   "cell_type": "code",
   "execution_count": 19,
   "metadata": {},
   "outputs": [],
   "source": [
    "MAPPINGS = [\n",
    "'A',\n",
    "'B',\n",
    "'C',\n",
    "'D',\n",
    "'E',\n",
    "'F',\n",
    "'G',\n",
    "'H',\n",
    "'I',\n",
    "# 'J',\n",
    "# 'K',\n",
    "# 'L',\n",
    "# 'M',\n",
    "# 'N',\n",
    "# 'O',\n",
    "# 'P',\n",
    "# 'Q',\n",
    "# 'R',\n",
    "# 'S',\n",
    "# 'T',\n",
    "# 'U',\n",
    "# 'V',\n",
    "# 'W',\n",
    "# 'X',\n",
    "# 'Y'\n",
    "# 'Z',\n",
    "# 'del',\n",
    "# 'space',\n",
    "# 'nothing'\n",
    "]"
   ]
  },
  {
   "cell_type": "code",
   "execution_count": 20,
   "metadata": {},
   "outputs": [
    {
     "data": {
      "text/plain": [
       "9"
      ]
     },
     "execution_count": 20,
     "metadata": {},
     "output_type": "execute_result"
    }
   ],
   "source": [
    "len(MAPPINGS)"
   ]
  },
  {
   "cell_type": "code",
   "execution_count": 21,
   "metadata": {},
   "outputs": [],
   "source": [
    "LABEL_PATHS = {}\n",
    "base_path = 'C:\\\\Tarun\\\\FYP\\\\asl_to_speech\\\\model\\\\data\\\\tuntun_only_train'\n",
    "for index, letter in enumerate(MAPPINGS):\n",
    "            LABEL_PATHS[base_path+'\\\\'+letter] = index\n"
   ]
  },
  {
   "cell_type": "code",
   "execution_count": 22,
   "metadata": {},
   "outputs": [],
   "source": [
    "mphands = mp.solutions.hands\n",
    "hands = mphands.Hands(max_num_hands=1)\n",
    "\n",
    "def get_piped_img(img):\n",
    "    \n",
    "    result = hands.process(img)\n",
    "    hand_landmarks = result.multi_hand_landmarks\n",
    "    handedness = result.multi_handedness\n",
    "    \n",
    "    h,w,c = img.shape\n",
    "    ann = None\n",
    "    box_height = 200\n",
    "    if hand_landmarks and handedness[0].classification[0].label == 'Left':\n",
    "        for handLMs in hand_landmarks:\n",
    "            x_max = 0\n",
    "            y_max = 0\n",
    "            x_min = w\n",
    "            y_min = h\n",
    "            for lm in handLMs.landmark:\n",
    "                x, y = int(lm.x * w), int(lm.y * h)\n",
    "                if x > x_max:\n",
    "                    x_max = x\n",
    "                if x < x_min:\n",
    "                    x_min = x\n",
    "                if y > y_max:\n",
    "                    y_max = y\n",
    "                if y < y_min:\n",
    "                    y_min = y\n",
    "        ann = img[y_min-box_height:y_max+box_height, x_min-box_height:x_max+box_height]\n",
    "    return ann"
   ]
  },
  {
   "cell_type": "code",
   "execution_count": 140,
   "metadata": {},
   "outputs": [],
   "source": [
    "def rotate_image(image,deg):\n",
    "    rows, cols = image.shape\n",
    "    M = cv2.getRotationMatrix2D((cols/2,rows/2), deg, 1)\n",
    "    image = cv2.warpAffine(image, M, (cols, rows))\n",
    "    return image\n"
   ]
  },
  {
   "cell_type": "code",
   "execution_count": 141,
   "metadata": {},
   "outputs": [],
   "source": [
    "def transformation_image(image):\n",
    "    rows, cols= image.shape\n",
    "    pts1 = np.float32([[50, 50], [100, 50], [50, 100]])\n",
    "    pts2 = np.float32([[10, 100], [100, 50], [100, 50]])\n",
    "    M = cv2.getAffineTransform(pts1, pts2)\n",
    "    image = cv2.warpAffine(image, M, (cols, rows))"
   ]
  },
  {
   "cell_type": "code",
   "execution_count": 142,
   "metadata": {},
   "outputs": [],
   "source": [
    "def random_crop(image,cropped_size):\n",
    "    height = np.random.randint(image.shape[0]-cropped_size)\n",
    "    width = np.random.randint(image.shape[1]-cropped_size)    \n",
    "    image = image[height:height+cropped_size,\n",
    "                 width:width+cropped_size]\n",
    "    return image"
   ]
  },
  {
   "cell_type": "code",
   "execution_count": 143,
   "metadata": {},
   "outputs": [],
   "source": [
    "from collections import defaultdict"
   ]
  },
  {
   "cell_type": "code",
   "execution_count": 151,
   "metadata": {},
   "outputs": [],
   "source": [
    "class HandSigns():    \n",
    "    class_count = defaultdict(int)\n",
    "    def __init__(self,base_path):\n",
    "        self.base_path = base_path\n",
    "        self.IMG_SIZE = 100\n",
    "        self.LABEL_PATHS = {}\n",
    "        self.training_data = []\n",
    "        for index, letter in enumerate(MAPPINGS):\n",
    "            self.LABEL_PATHS[self.base_path+'\\\\'+letter] = index\n",
    "        \n",
    "    def make_training_data(self):\n",
    "        for label_path in self.LABEL_PATHS:\n",
    "            for f in tqdm(os.listdir(label_path),desc=label_path):\n",
    "                self.read_images(label_path, f)\n",
    "            \n",
    "            np.random.shuffle(self.training_data)\n",
    "            np.save('mediapipe_all_data_augmented_single_y.npy',self.training_data)\n",
    "\n",
    "            \n",
    "    def read_images(self, label_path, f):        \n",
    "        if (os.path.isfile(label_path+'\\\\'+f)) and (f.split('.')[-1] in ['jpg','png','jpeg']):\n",
    "            try:\n",
    "                path = os.path.join(label_path, f)\n",
    "                img = cv2.imread(path)\n",
    "                img1 = cv2.cvtColor(img, cv2.COLOR_BGR2GRAY)\n",
    "#                 img2 = cv2.cvtColor(img, cv2.COLOR_BGR2GRAY)\n",
    "                img3 = cv2.cvtColor(img, cv2.COLOR_BGR2GRAY)\n",
    "                img1 = random_crop(img1,int(img1.shape[1]*0.85))\n",
    "#                 img2 = get_piped_img(cv2.cvtColor(img2, cv2.COLOR_BGR2RGB))\n",
    "                img3 = rotate_image(img3,random.randint(-15,15))\n",
    "                img1 = cv2.resize(img1, (self.IMG_SIZE, self.IMG_SIZE))\n",
    "#                 img2 = cv2.resize(img2, (self.IMG_SIZE, self.IMG_SIZE))\n",
    "                img3 = cv2.resize(img3, (self.IMG_SIZE, self.IMG_SIZE))\n",
    "                self.training_data.append([np.array(img1), self.LABEL_PATHS[label_path]])\n",
    "                self.class_count[label_path[-1]] +=1\n",
    "#                 self.training_data.append([np.array(img2), np.eye(len(self.LABEL_PATHS))[self.LABEL_PATHS[label_path]]])\n",
    "#                 self.class_count[label_path[-1]] +=1\n",
    "\n",
    "                self.training_data.append([np.array(img3), self.LABEL_PATHS[label_path]])\n",
    "                self.class_count[label_path[-1]] +=1\n",
    "\n",
    "            except Exception as e:\n",
    "                raise(e)"
   ]
  },
  {
   "cell_type": "code",
   "execution_count": 152,
   "metadata": {},
   "outputs": [
    {
     "name": "stderr",
     "output_type": "stream",
     "text": [
      "C:\\Tarun\\FYP\\asl_to_speech\\model\\data\\tuntun_only_train\\A: 100%|███████████████████| 2205/2205 [00:45<00:00, 48.51it/s]\n",
      "C:\\Tarun\\FYP\\asl_to_speech\\model\\data\\tuntun_only_train\\B: 100%|███████████████████| 2218/2218 [00:45<00:00, 48.36it/s]\n",
      "C:\\Tarun\\FYP\\asl_to_speech\\model\\data\\tuntun_only_train\\C: 100%|███████████████████| 2250/2250 [00:46<00:00, 48.39it/s]\n",
      "C:\\Tarun\\FYP\\asl_to_speech\\model\\data\\tuntun_only_train\\D: 100%|███████████████████| 2225/2225 [00:45<00:00, 48.92it/s]\n",
      "C:\\Tarun\\FYP\\asl_to_speech\\model\\data\\tuntun_only_train\\E: 100%|███████████████████| 2364/2364 [00:48<00:00, 48.56it/s]\n",
      "C:\\Tarun\\FYP\\asl_to_speech\\model\\data\\tuntun_only_train\\F: 100%|███████████████████| 2323/2323 [00:49<00:00, 46.70it/s]\n",
      "C:\\Tarun\\FYP\\asl_to_speech\\model\\data\\tuntun_only_train\\G: 100%|███████████████████| 2136/2136 [00:44<00:00, 48.37it/s]\n",
      "C:\\Tarun\\FYP\\asl_to_speech\\model\\data\\tuntun_only_train\\H: 100%|███████████████████| 2316/2316 [00:49<00:00, 46.93it/s]\n",
      "C:\\Tarun\\FYP\\asl_to_speech\\model\\data\\tuntun_only_train\\I: 100%|███████████████████| 2151/2151 [00:45<00:00, 47.17it/s]\n"
     ]
    }
   ],
   "source": [
    "BASE_PATH = 'C:\\\\Tarun\\\\FYP\\\\asl_to_speech\\\\model\\\\data\\\\tuntun_only_train'\n",
    "if REBUILD_DATA:\n",
    "    ASL_DATA = HandSigns(BASE_PATH)\n",
    "    errors = ASL_DATA.make_training_data()"
   ]
  },
  {
   "cell_type": "code",
   "execution_count": 153,
   "metadata": {},
   "outputs": [
    {
     "data": {
      "text/plain": [
       "defaultdict(int,\n",
       "            {'A': 4410,\n",
       "             'B': 4436,\n",
       "             'C': 4500,\n",
       "             'D': 4450,\n",
       "             'E': 4728,\n",
       "             'F': 4646,\n",
       "             'G': 4272,\n",
       "             'H': 4632,\n",
       "             'I': 4302})"
      ]
     },
     "execution_count": 153,
     "metadata": {},
     "output_type": "execute_result"
    }
   ],
   "source": [
    "ASL_DATA.class_count"
   ]
  },
  {
   "cell_type": "code",
   "execution_count": 154,
   "metadata": {},
   "outputs": [
    {
     "data": {
      "image/png": "[encoded data removed]",
      "text/plain": [
       "<Figure size 432x288 with 1 Axes>"
      ]
     },
     "metadata": {
      "needs_background": "light"
     },
     "output_type": "display_data"
    }
   ],
   "source": [
    "fig = plt.figure()\n",
    "ax = fig.add_axes([0,0,1,1])\n",
    "classes = ASL_DATA.class_count.keys()\n",
    "count = ASL_DATA.class_count.values()\n",
    "ax.bar(classes,count)\n",
    "plt.show()"
   ]
  },
  {
   "cell_type": "code",
   "execution_count": null,
   "metadata": {},
   "outputs": [],
   "source": []
  },
  {
   "cell_type": "code",
   "execution_count": 157,
   "metadata": {},
   "outputs": [],
   "source": [
    "training_data = np.load('mediapipe_all_data_augmented_single_y.npy',allow_pickle=True)\n",
    "X = torch.Tensor([i[0] for i in training_data]).view(-1,1,100,100)\n",
    "X= X/255.0\n",
    "y = torch.Tensor([i[1] for i in training_data])\n",
    "\n",
    "torch.save(X, 'aug_piped_X_tensor_single.pt')\n",
    "torch.save(y, 'aug_piped_y_tensor_single.pt')"
   ]
  },
  {
   "cell_type": "code",
   "execution_count": 158,
   "metadata": {},
   "outputs": [
    {
     "data": {
      "text/plain": [
       "tensor(6.)"
      ]
     },
     "execution_count": 158,
     "metadata": {},
     "output_type": "execute_result"
    }
   ],
   "source": [
    "y[0]"
   ]
  },
  {
   "cell_type": "code",
   "execution_count": 127,
   "metadata": {},
   "outputs": [
    {
     "data": {
      "text/plain": [
       "0"
      ]
     },
     "execution_count": 127,
     "metadata": {},
     "output_type": "execute_result"
    }
   ],
   "source": [
    "len(training_data)"
   ]
  },
  {
   "cell_type": "code",
   "execution_count": 110,
   "metadata": {},
   "outputs": [
    {
     "data": {
      "image/png": "[encoded data removed]",
      "text/plain": [
       "<Figure size 432x288 with 1 Axes>"
      ]
     },
     "metadata": {
      "needs_background": "light"
     },
     "output_type": "display_data"
    }
   ],
   "source": [
    "import matplotlib.pyplot as plt\n",
    "plt.imshow(training_data[3][0], cmap=\"gray\")\n",
    "plt.show()\n"
   ]
  },
  {
   "cell_type": "code",
   "execution_count": null,
   "metadata": {},
   "outputs": [],
   "source": [
    "a = get_piped_img(img)"
   ]
  },
  {
   "cell_type": "code",
   "execution_count": null,
   "metadata": {},
   "outputs": [],
   "source": [
    "plt.imshow(img, cmap='gray')\n",
    "plt.show()"
   ]
  },
  {
   "cell_type": "code",
   "execution_count": null,
   "metadata": {},
   "outputs": [],
   "source": []
  },
  {
   "cell_type": "code",
   "execution_count": null,
   "metadata": {},
   "outputs": [],
   "source": []
  }
 ],
 "metadata": {
  "kernelspec": {
   "display_name": "ASL_TO_SPEECH",
   "language": "python",
   "name": "env"
  },
  "language_info": {
   "codemirror_mode": {
    "name": "ipython",
    "version": 3
   },
   "file_extension": ".py",
   "mimetype": "text/x-python",
   "name": "python",
   "nbconvert_exporter": "python",
   "pygments_lexer": "ipython3",
   "version": "3.9.5"
  }
 },
 "nbformat": 4,
 "nbformat_minor": 4
}
